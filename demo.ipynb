{
 "cells": [
  {
   "cell_type": "code",
   "execution_count": 1,
   "id": "1f3df134",
   "metadata": {
    "ExecuteTime": {
     "end_time": "2024-01-29T12:25:11.113502Z",
     "start_time": "2024-01-29T12:25:11.107502Z"
    }
   },
   "outputs": [],
   "source": [
    "import numpy as np"
   ]
  },
  {
   "cell_type": "markdown",
   "id": "afa0ae75",
   "metadata": {},
   "source": [
    "### ipywidgets.interact"
   ]
  },
  {
   "cell_type": "code",
   "execution_count": 2,
   "id": "cd55c997",
   "metadata": {
    "ExecuteTime": {
     "end_time": "2024-01-29T12:25:11.251020Z",
     "start_time": "2024-01-29T12:25:11.133505Z"
    }
   },
   "outputs": [],
   "source": [
    "import ipywidgets"
   ]
  },
  {
   "cell_type": "code",
   "execution_count": 3,
   "id": "9fd24a3f",
   "metadata": {
    "ExecuteTime": {
     "end_time": "2024-01-29T12:25:11.257521Z",
     "start_time": "2024-01-29T12:25:11.252520Z"
    }
   },
   "outputs": [],
   "source": [
    "def f(x=1):\n",
    "    return x**2"
   ]
  },
  {
   "cell_type": "code",
   "execution_count": 4,
   "id": "0c35508e",
   "metadata": {
    "ExecuteTime": {
     "end_time": "2024-01-29T12:25:11.487550Z",
     "start_time": "2024-01-29T12:25:11.455046Z"
    }
   },
   "outputs": [
    {
     "data": {
      "application/vnd.jupyter.widget-view+json": {
       "model_id": "94759108762f44b69400fe8494b376be",
       "version_major": 2,
       "version_minor": 0
      },
      "text/plain": [
       "interactive(children=(IntSlider(value=1, description='x', max=3, min=-1), Output()), _dom_classes=('widget-int…"
      ]
     },
     "metadata": {},
     "output_type": "display_data"
    }
   ],
   "source": [
    "ipywidgets.interact(f);"
   ]
  },
  {
   "cell_type": "code",
   "execution_count": 5,
   "id": "5385132d",
   "metadata": {
    "ExecuteTime": {
     "end_time": "2024-01-29T12:25:20.062139Z",
     "start_time": "2024-01-29T12:25:20.022634Z"
    }
   },
   "outputs": [
    {
     "data": {
      "application/vnd.jupyter.widget-view+json": {
       "model_id": "e8e91085bb604953bbb79a95f739386f",
       "version_major": 2,
       "version_minor": 0
      },
      "text/plain": [
       "interactive(children=(IntSlider(value=1, description='x', max=10), Output()), _dom_classes=('widget-interact',…"
      ]
     },
     "metadata": {},
     "output_type": "display_data"
    }
   ],
   "source": [
    "ipywidgets.interact(f, x=(0, 10));"
   ]
  },
  {
   "cell_type": "code",
   "execution_count": 6,
   "id": "449fa1c2",
   "metadata": {
    "ExecuteTime": {
     "end_time": "2024-01-29T12:25:20.335173Z",
     "start_time": "2024-01-29T12:25:20.287167Z"
    }
   },
   "outputs": [
    {
     "data": {
      "application/vnd.jupyter.widget-view+json": {
       "model_id": "b21196be12cf4d7ea8b6efdfbe4c2deb",
       "version_major": 2,
       "version_minor": 0
      },
      "text/plain": [
       "interactive(children=(FloatSlider(value=1.0, description='x', max=10.0, step=0.01), Output()), _dom_classes=('…"
      ]
     },
     "metadata": {},
     "output_type": "display_data"
    }
   ],
   "source": [
    "ipywidgets.interact(f, x=(0, 10., 0.01));"
   ]
  },
  {
   "cell_type": "markdown",
   "id": "0c5dff5a",
   "metadata": {},
   "source": [
    "### ipywidgets.interactive"
   ]
  },
  {
   "cell_type": "code",
   "execution_count": 7,
   "id": "f02ea1dd",
   "metadata": {
    "ExecuteTime": {
     "end_time": "2024-01-29T12:25:22.647467Z",
     "start_time": "2024-01-29T12:25:21.965880Z"
    }
   },
   "outputs": [
    {
     "data": {
      "image/png": "[encoded data removed]",
      "text/plain": [
       "<Figure size 640x480 with 1 Axes>"
      ]
     },
     "metadata": {},
     "output_type": "display_data"
    }
   ],
   "source": [
    "%matplotlib inline\n",
    "from ipywidgets import interactive\n",
    "import matplotlib.pyplot as plt\n",
    "import numpy as np\n",
    "\n",
    "def f(m, b):\n",
    "    plt.figure(2)\n",
    "    x = np.linspace(-10, 10, num=1000)\n",
    "    plt.plot(x, m * x + b)\n",
    "    plt.ylim(-5, 5)\n",
    "    plt.show()\n",
    "\n",
    "interactive_plot = interactive(f, m=(-2.0, 2.0), b=(-3, 3, 0.5))\n",
    "output = interactive_plot.children[-1]\n",
    "output.layout.height = '350px'\n",
    "interactive_plot"
   ]
  },
  {
   "cell_type": "markdown",
   "id": "3c904aca",
   "metadata": {},
   "source": [
    "### qtinteract"
   ]
  },
  {
   "cell_type": "code",
   "execution_count": 12,
   "id": "f097a3af",
   "metadata": {
    "ExecuteTime": {
     "end_time": "2024-01-29T12:31:06.652150Z",
     "start_time": "2024-01-29T12:31:06.558638Z"
    }
   },
   "outputs": [],
   "source": [
    "%gui qt5"
   ]
  },
  {
   "cell_type": "code",
   "execution_count": 15,
   "id": "512c143d",
   "metadata": {
    "ExecuteTime": {
     "end_time": "2024-01-29T12:31:55.792890Z",
     "start_time": "2024-01-29T12:31:55.662374Z"
    }
   },
   "outputs": [],
   "source": [
    "from qtinteract import iplot"
   ]
  },
  {
   "cell_type": "markdown",
   "id": "84fa0b69",
   "metadata": {},
   "source": [
    "### analytic function"
   ]
  },
  {
   "cell_type": "code",
   "execution_count": 13,
   "id": "e9f59a80",
   "metadata": {
    "ExecuteTime": {
     "end_time": "2024-01-29T12:31:49.236057Z",
     "start_time": "2024-01-29T12:31:49.222056Z"
    }
   },
   "outputs": [],
   "source": [
    "from math import pi\n",
    "x = np.linspace(0, 2*pi, 101)\n",
    "\n",
    "def f(x, x0, a, b):\n",
    "    return np.exp(-(x-x0)**2/2/a**2)*np.sin(b*x)"
   ]
  },
  {
   "cell_type": "code",
   "execution_count": 16,
   "id": "c092089c",
   "metadata": {
    "ExecuteTime": {
     "end_time": "2024-01-29T12:31:57.703133Z",
     "start_time": "2024-01-29T12:31:56.924534Z"
    }
   },
   "outputs": [
    {
     "data": {
      "text/plain": [
       "<qtinteract.SimpleWindow at 0x14b9ec10>"
      ]
     },
     "execution_count": 16,
     "metadata": {},
     "output_type": "execute_result"
    }
   ],
   "source": [
    "iplot(np.arange(-10, 10, 0.05), f, x0=(-7., 7.), a=(1., 5.), b=(0.1, 5.))"
   ]
  },
  {
   "cell_type": "markdown",
   "id": "b120e1a8",
   "metadata": {},
   "source": [
    "### changing function on the fly"
   ]
  },
  {
   "cell_type": "code",
   "execution_count": 17,
   "id": "333a62fb",
   "metadata": {
    "ExecuteTime": {
     "end_time": "2024-01-29T12:32:18.079720Z",
     "start_time": "2024-01-29T12:32:18.068219Z"
    }
   },
   "outputs": [],
   "source": [
    "from math import pi\n",
    "x = np.linspace(0, 2*pi, 101)\n",
    "\n",
    "def f(x, x0, a, b):\n",
    "    return np.exp(-(x-x0)**2/2/a**2)*np.sin(b*x)"
   ]
  },
  {
   "cell_type": "code",
   "execution_count": 18,
   "id": "bf0987ca",
   "metadata": {
    "ExecuteTime": {
     "end_time": "2024-01-29T12:32:18.271244Z",
     "start_time": "2024-01-29T12:32:18.263243Z"
    }
   },
   "outputs": [],
   "source": [
    "def g(x, x0, a, b):\n",
    "    return f(x, x0, a, b)"
   ]
  },
  {
   "cell_type": "code",
   "execution_count": 21,
   "id": "feb15322",
   "metadata": {
    "ExecuteTime": {
     "end_time": "2024-01-29T12:32:26.276261Z",
     "start_time": "2024-01-29T12:32:26.208252Z"
    }
   },
   "outputs": [],
   "source": [
    "w = iplot(np.arange(-10, 10, 0.05), g, x0=(-7., 7.), a=(1., 5.), b=(0.1, 5.))"
   ]
  },
  {
   "cell_type": "code",
   "execution_count": 20,
   "id": "fbb95f13",
   "metadata": {
    "ExecuteTime": {
     "end_time": "2024-01-29T12:32:24.316512Z",
     "start_time": "2024-01-29T12:32:24.309011Z"
    }
   },
   "outputs": [],
   "source": [
    "def f(x, x0, a, b):\n",
    "    return np.sin(b*x)"
   ]
  },
  {
   "cell_type": "code",
   "execution_count": 40,
   "id": "965b14b6",
   "metadata": {},
   "outputs": [],
   "source": [
    "w.funcs[0] = f"
   ]
  },
  {
   "cell_type": "markdown",
   "id": "8adc04da",
   "metadata": {},
   "source": [
    "### discrete function"
   ]
  },
  {
   "cell_type": "code",
   "execution_count": 22,
   "id": "f4c9b884",
   "metadata": {
    "ExecuteTime": {
     "end_time": "2024-01-29T12:32:34.432797Z",
     "start_time": "2024-01-29T12:32:34.423296Z"
    }
   },
   "outputs": [],
   "source": [
    "x = np.arange(0, 10, 0.1)\n",
    "y = 3-(x-4)**2*(1+np.random.randn(len(x))/50)"
   ]
  },
  {
   "cell_type": "code",
   "execution_count": 23,
   "id": "fc69056e",
   "metadata": {
    "ExecuteTime": {
     "end_time": "2024-01-29T12:32:35.172391Z",
     "start_time": "2024-01-29T12:32:35.152888Z"
    }
   },
   "outputs": [],
   "source": [
    "def f1(a):\n",
    "    return y[round(a):]\n",
    "def f2(a):\n",
    "    return y[:round(a)][::-1]"
   ]
  },
  {
   "cell_type": "code",
   "execution_count": 24,
   "id": "2f83f2ef",
   "metadata": {
    "ExecuteTime": {
     "end_time": "2024-01-29T12:32:36.168017Z",
     "start_time": "2024-01-29T12:32:36.104009Z"
    }
   },
   "outputs": [
    {
     "data": {
      "text/plain": [
       "<qtinteract.SimpleWindow at 0x150120d0>"
      ]
     },
     "execution_count": 24,
     "metadata": {},
     "output_type": "execute_result"
    }
   ],
   "source": [
    "iplot([f1, f2], a=[0, 80])"
   ]
  },
  {
   "cell_type": "markdown",
   "id": "95a9983b",
   "metadata": {},
   "source": [
    "### polynome"
   ]
  },
  {
   "cell_type": "code",
   "execution_count": 25,
   "id": "0529b44f",
   "metadata": {
    "ExecuteTime": {
     "end_time": "2024-01-29T12:32:41.675216Z",
     "start_time": "2024-01-29T12:32:41.663715Z"
    }
   },
   "outputs": [],
   "source": [
    "def f(x, x0, a, b, c):\n",
    "    return a*(x-x0)**3+b*(x-x0)**2+c*(x-x0)"
   ]
  },
  {
   "cell_type": "code",
   "execution_count": 27,
   "id": "bbd7b964",
   "metadata": {
    "ExecuteTime": {
     "end_time": "2024-01-29T12:32:46.170787Z",
     "start_time": "2024-01-29T12:32:46.116780Z"
    }
   },
   "outputs": [
    {
     "data": {
      "text/plain": [
       "<qtinteract.SimpleWindow at 0x151b1820>"
      ]
     },
     "execution_count": 27,
     "metadata": {},
     "output_type": "execute_result"
    }
   ],
   "source": [
    "iplot(np.arange(-10, 10, 0.1), f, x0=(-5., 5.), a=(-5., 5.), b=(-10., 10.), c=(-10., 10.))"
   ]
  },
  {
   "cell_type": "markdown",
   "id": "3bc25db4",
   "metadata": {},
   "source": [
    "### exponent"
   ]
  },
  {
   "cell_type": "code",
   "execution_count": 28,
   "id": "9bb7dc5f",
   "metadata": {
    "ExecuteTime": {
     "end_time": "2024-01-29T12:32:54.763378Z",
     "start_time": "2024-01-29T12:32:54.756378Z"
    }
   },
   "outputs": [],
   "source": [
    "def f(x, a=1., b=1.):\n",
    "    return x**a * np.exp(-b*x)"
   ]
  },
  {
   "cell_type": "code",
   "execution_count": 29,
   "id": "90695e7f",
   "metadata": {
    "ExecuteTime": {
     "end_time": "2024-01-29T12:32:54.981406Z",
     "start_time": "2024-01-29T12:32:54.941401Z"
    },
    "scrolled": false
   },
   "outputs": [
    {
     "data": {
      "text/plain": [
       "<qtinteract.SimpleWindow at 0x114b1160>"
      ]
     },
     "execution_count": 29,
     "metadata": {},
     "output_type": "execute_result"
    }
   ],
   "source": [
    "iplot(np.arange(0, 10, 0.1), f, a=(0.1, 5., 0.01), b=(0., 2., 0.01))"
   ]
  },
  {
   "cell_type": "markdown",
   "id": "1ea4d4d1",
   "metadata": {},
   "source": [
    "### fit"
   ]
  },
  {
   "cell_type": "code",
   "execution_count": 30,
   "id": "6eec18d8",
   "metadata": {
    "ExecuteTime": {
     "end_time": "2024-01-29T12:33:00.231573Z",
     "start_time": "2024-01-29T12:33:00.225072Z"
    }
   },
   "outputs": [],
   "source": [
    "def f(x, a=1., b=1.):\n",
    "    return a * b * x * np.exp(-b*x)"
   ]
  },
  {
   "cell_type": "code",
   "execution_count": 31,
   "id": "b877544d",
   "metadata": {
    "ExecuteTime": {
     "end_time": "2024-01-29T12:33:00.432098Z",
     "start_time": "2024-01-29T12:33:00.418096Z"
    }
   },
   "outputs": [],
   "source": [
    "x1 = np.arange(0, 10.2, 0.25)\n",
    "x2 = np.arange(0, 10.05, 0.1)"
   ]
  },
  {
   "cell_type": "code",
   "execution_count": 32,
   "id": "bb281277",
   "metadata": {
    "ExecuteTime": {
     "end_time": "2024-01-29T12:33:00.740637Z",
     "start_time": "2024-01-29T12:33:00.734637Z"
    }
   },
   "outputs": [],
   "source": [
    "y = f(x1, a=0.5, b=1.2) * (1+np.random.randn(len(x1))/100)"
   ]
  },
  {
   "cell_type": "code",
   "execution_count": 33,
   "id": "87f311cf",
   "metadata": {
    "ExecuteTime": {
     "end_time": "2024-01-29T12:33:01.190695Z",
     "start_time": "2024-01-29T12:33:01.136188Z"
    },
    "scrolled": false
   },
   "outputs": [
    {
     "data": {
      "text/plain": [
       "<qtinteract.SimpleWindow at 0x151a03a0>"
      ]
     },
     "execution_count": 33,
     "metadata": {},
     "output_type": "execute_result"
    }
   ],
   "source": [
    "iplot([x1, x2], [y, f], ['.', '-'], a=(0.1, 2., 0.01), b=(0., 2., 0.01))"
   ]
  },
  {
   "cell_type": "markdown",
   "id": "1da39130",
   "metadata": {},
   "source": [
    "### fit two peaks"
   ]
  },
  {
   "cell_type": "code",
   "execution_count": 48,
   "id": "7cc452c3",
   "metadata": {},
   "outputs": [],
   "source": [
    "x = np.linspace(0, 10, 101)"
   ]
  },
  {
   "cell_type": "code",
   "execution_count": 49,
   "id": "ae867fcc",
   "metadata": {},
   "outputs": [],
   "source": [
    "def f(x, x0=1, a=1., b=1.):\n",
    "    return a * np.exp(-(x-x0)**2/2/b**2)"
   ]
  },
  {
   "cell_type": "code",
   "execution_count": 50,
   "id": "87b1c787",
   "metadata": {},
   "outputs": [],
   "source": [
    "def g(x, x01=4., a1=1., b1=0.55, x02=7.5, a2=1.5, b2=0.55):\n",
    "    return f(x, x01, a1, b1) + f(x, x02, a2, b2)"
   ]
  },
  {
   "cell_type": "code",
   "execution_count": 53,
   "id": "737c9b4f",
   "metadata": {},
   "outputs": [],
   "source": [
    "y = g(x, 3, 0.9, 0.56, 7, 1.1, 0.3)*(1+np.random.randn(len(x))/30)"
   ]
  },
  {
   "cell_type": "code",
   "execution_count": 54,
   "id": "5aac1c71",
   "metadata": {},
   "outputs": [],
   "source": [
    "iplot([x, x], [y, g], ['.', '-'])"
   ]
  }
 ],
 "metadata": {
  "kernelspec": {
   "display_name": "Python 3 (ipykernel)",
   "language": "python",
   "name": "python3"
  },
  "language_info": {
   "codemirror_mode": {
    "name": "ipython",
    "version": 3
   },
   "file_extension": ".py",
   "mimetype": "text/x-python",
   "name": "python",
   "nbconvert_exporter": "python",
   "pygments_lexer": "ipython3",
   "version": "3.8.10"
  },
  "toc": {
   "base_numbering": 1,
   "nav_menu": {},
   "number_sections": true,
   "sideBar": true,
   "skip_h1_title": false,
   "title_cell": "Table of Contents",
   "title_sidebar": "Contents",
   "toc_cell": false,
   "toc_position": {
    "height": "calc(100% - 180px)",
    "left": "10px",
    "top": "150px",
    "width": "256px"
   },
   "toc_section_display": true,
   "toc_window_display": true
  }
 },
 "nbformat": 4,
 "nbformat_minor": 5
}
