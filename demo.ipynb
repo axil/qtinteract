{
 "cells": [
  {
   "cell_type": "code",
   "execution_count": 45,
   "id": "1f3df134",
   "metadata": {
    "ExecuteTime": {
     "end_time": "2024-01-30T05:30:41.208832Z",
     "start_time": "2024-01-30T05:30:41.199831Z"
    }
   },
   "outputs": [],
   "source": [
    "import numpy as np"
   ]
  },
  {
   "cell_type": "markdown",
   "id": "afa0ae75",
   "metadata": {},
   "source": [
    "### ipywidgets.interact"
   ]
  },
  {
   "cell_type": "markdown",
   "id": "c254fbcd",
   "metadata": {},
   "source": [
    "Slider + number"
   ]
  },
  {
   "cell_type": "code",
   "execution_count": 46,
   "id": "cd55c997",
   "metadata": {
    "ExecuteTime": {
     "end_time": "2024-01-30T05:30:52.764300Z",
     "start_time": "2024-01-30T05:30:52.755798Z"
    }
   },
   "outputs": [],
   "source": [
    "import ipywidgets"
   ]
  },
  {
   "cell_type": "code",
   "execution_count": 52,
   "id": "9fd24a3f",
   "metadata": {
    "ExecuteTime": {
     "end_time": "2024-01-30T05:32:08.420907Z",
     "start_time": "2024-01-30T05:32:08.410905Z"
    }
   },
   "outputs": [],
   "source": [
    "def f(x=0.):\n",
    "    return x**2"
   ]
  },
  {
   "cell_type": "code",
   "execution_count": 53,
   "id": "0c35508e",
   "metadata": {
    "ExecuteTime": {
     "end_time": "2024-01-30T05:32:09.242011Z",
     "start_time": "2024-01-30T05:32:09.197005Z"
    }
   },
   "outputs": [
    {
     "data": {
      "application/vnd.jupyter.widget-view+json": {
       "model_id": "88e781438626412b99c4409c1df644fa",
       "version_major": 2,
       "version_minor": 0
      },
      "text/plain": [
       "interactive(children=(FloatSlider(value=0.0, description='x', max=1.0), Output()), _dom_classes=('widget-inter…"
      ]
     },
     "metadata": {},
     "output_type": "display_data"
    }
   ],
   "source": [
    "ipywidgets.interact(f);                         # automatic range"
   ]
  },
  {
   "cell_type": "code",
   "execution_count": 54,
   "id": "5385132d",
   "metadata": {
    "ExecuteTime": {
     "end_time": "2024-01-30T05:32:19.012252Z",
     "start_time": "2024-01-30T05:32:18.965246Z"
    }
   },
   "outputs": [
    {
     "data": {
      "application/vnd.jupyter.widget-view+json": {
       "model_id": "c4e5c6f22a03499a958cac0c3e781c01",
       "version_major": 2,
       "version_minor": 0
      },
      "text/plain": [
       "interactive(children=(IntSlider(value=0, description='x', max=10), Output()), _dom_classes=('widget-interact',…"
      ]
     },
     "metadata": {},
     "output_type": "display_data"
    }
   ],
   "source": [
    "ipywidgets.interact(f, x=(0, 10));              # start, stop (inclusive)"
   ]
  },
  {
   "cell_type": "code",
   "execution_count": 55,
   "id": "449fa1c2",
   "metadata": {
    "ExecuteTime": {
     "end_time": "2024-01-30T05:32:19.130267Z",
     "start_time": "2024-01-30T05:32:19.097262Z"
    }
   },
   "outputs": [
    {
     "data": {
      "application/vnd.jupyter.widget-view+json": {
       "model_id": "98f12c5fc6404a078f37e5b08a9b6e7a",
       "version_major": 2,
       "version_minor": 0
      },
      "text/plain": [
       "interactive(children=(FloatSlider(value=0.0, description='x', max=10.0, step=0.01), Output()), _dom_classes=('…"
      ]
     },
     "metadata": {},
     "output_type": "display_data"
    }
   ],
   "source": [
    "ipywidgets.interact(f, x=(0, 10., 0.01));       # start, stop (inclusive), step"
   ]
  },
  {
   "cell_type": "markdown",
   "id": "0c5dff5a",
   "metadata": {},
   "source": [
    "### ipywidgets.interactive"
   ]
  },
  {
   "cell_type": "markdown",
   "id": "a3baeb28",
   "metadata": {},
   "source": [
    "Slider + plot"
   ]
  },
  {
   "cell_type": "code",
   "execution_count": 58,
   "id": "f02ea1dd",
   "metadata": {
    "ExecuteTime": {
     "end_time": "2024-01-30T05:32:44.334967Z",
     "start_time": "2024-01-30T05:32:44.161945Z"
    },
    "scrolled": false
   },
   "outputs": [],
   "source": [
    "%matplotlib inline\n",
    "from ipywidgets import interactive\n",
    "import matplotlib.pyplot as plt\n",
    "import numpy as np\n",
    "\n",
    "def f(m, b):\n",
    "    plt.figure(2)\n",
    "    x = np.linspace(-10, 10, num=1000)\n",
    "    plt.plot(x, m * x + b)\n",
    "    plt.ylim(-5, 5)\n",
    "    plt.show()\n",
    "\n",
    "interactive_plot = interactive(f, m=(-2.0, 2.0), b=(-3, 3, 0.5))\n",
    "output = interactive_plot.children[-1]\n",
    "output.layout.height = '350px'\n",
    "interactive_plot"
   ]
  },
  {
   "cell_type": "markdown",
   "id": "3c904aca",
   "metadata": {},
   "source": [
    "### qtinteract"
   ]
  },
  {
   "cell_type": "code",
   "execution_count": 59,
   "id": "f097a3af",
   "metadata": {
    "ExecuteTime": {
     "end_time": "2024-01-30T05:32:46.539747Z",
     "start_time": "2024-01-30T05:32:46.524245Z"
    }
   },
   "outputs": [],
   "source": [
    "%gui qt5"
   ]
  },
  {
   "cell_type": "code",
   "execution_count": 60,
   "id": "512c143d",
   "metadata": {
    "ExecuteTime": {
     "end_time": "2024-01-30T05:32:46.872289Z",
     "start_time": "2024-01-30T05:32:46.860788Z"
    }
   },
   "outputs": [],
   "source": [
    "from qtinteract import iplot"
   ]
  },
  {
   "cell_type": "markdown",
   "id": "84fa0b69",
   "metadata": {},
   "source": [
    "### analytic function"
   ]
  },
  {
   "cell_type": "code",
   "execution_count": 88,
   "id": "e9f59a80",
   "metadata": {
    "ExecuteTime": {
     "end_time": "2024-01-30T05:37:57.765768Z",
     "start_time": "2024-01-30T05:37:57.753766Z"
    }
   },
   "outputs": [],
   "source": [
    "from math import pi\n",
    "x = np.linspace(0, 2*pi, 101)\n",
    "\n",
    "def f(x, x0, a, b):\n",
    "    return np.exp(-(x-x0)**2/2/a**2)*np.sin(b*x)"
   ]
  },
  {
   "cell_type": "code",
   "execution_count": 89,
   "id": "c092089c",
   "metadata": {
    "ExecuteTime": {
     "end_time": "2024-01-30T05:37:58.296335Z",
     "start_time": "2024-01-30T05:37:58.256330Z"
    }
   },
   "outputs": [],
   "source": [
    "iplot(np.arange(-10, 10, 0.05), f, x0=(-7., 7.), a=(1., 5.), b=(0.1, 5.))"
   ]
  },
  {
   "cell_type": "markdown",
   "id": "b120e1a8",
   "metadata": {},
   "source": [
    "### changing function on the fly"
   ]
  },
  {
   "cell_type": "code",
   "execution_count": 63,
   "id": "333a62fb",
   "metadata": {
    "ExecuteTime": {
     "end_time": "2024-01-30T05:33:32.245051Z",
     "start_time": "2024-01-30T05:33:32.237550Z"
    }
   },
   "outputs": [],
   "source": [
    "from math import pi\n",
    "x = np.linspace(0, 2*pi, 101)\n",
    "\n",
    "def f(x, x0, a, b):\n",
    "    return np.exp(-(x-x0)**2/2/a**2)*np.sin(b*x)"
   ]
  },
  {
   "cell_type": "code",
   "execution_count": 64,
   "id": "bf0987ca",
   "metadata": {
    "ExecuteTime": {
     "end_time": "2024-01-30T05:33:32.604597Z",
     "start_time": "2024-01-30T05:33:32.598096Z"
    }
   },
   "outputs": [],
   "source": [
    "def g(x, x0, a, b):\n",
    "    return f(x, x0, a, b)"
   ]
  },
  {
   "cell_type": "code",
   "execution_count": 65,
   "id": "feb15322",
   "metadata": {
    "ExecuteTime": {
     "end_time": "2024-01-30T05:33:34.752869Z",
     "start_time": "2024-01-30T05:33:34.694362Z"
    }
   },
   "outputs": [],
   "source": [
    "w = iplot(np.arange(-10, 10, 0.05), g, x0=(-7., 7.), a=(1., 5.), b=(0.1, 5.))"
   ]
  },
  {
   "cell_type": "code",
   "execution_count": 66,
   "id": "fbb95f13",
   "metadata": {
    "ExecuteTime": {
     "end_time": "2024-01-30T05:33:38.316822Z",
     "start_time": "2024-01-30T05:33:38.308321Z"
    }
   },
   "outputs": [],
   "source": [
    "def f(x, x0, a, b):\n",
    "    return np.sin(b*x)"
   ]
  },
  {
   "cell_type": "code",
   "execution_count": null,
   "id": "965b14b6",
   "metadata": {},
   "outputs": [],
   "source": [
    "w.funcs[0] = f"
   ]
  },
  {
   "cell_type": "markdown",
   "id": "d3247761",
   "metadata": {},
   "source": [
    "### changing function on the fly - method 2"
   ]
  },
  {
   "cell_type": "code",
   "execution_count": 67,
   "id": "8d931b42",
   "metadata": {
    "ExecuteTime": {
     "end_time": "2024-01-30T05:33:52.954181Z",
     "start_time": "2024-01-30T05:33:52.943179Z"
    }
   },
   "outputs": [],
   "source": [
    "from math import pi\n",
    "x = np.linspace(0, 2*pi, 101)\n",
    "\n",
    "def f(x, x0, a, b):\n",
    "    return np.exp(-(x-x0)**2/2/a**2)*np.sin(b*x)"
   ]
  },
  {
   "cell_type": "code",
   "execution_count": 68,
   "id": "9bf88138",
   "metadata": {
    "ExecuteTime": {
     "end_time": "2024-01-30T05:33:53.630267Z",
     "start_time": "2024-01-30T05:33:53.590262Z"
    }
   },
   "outputs": [],
   "source": [
    "w = iplot(np.arange(-10, 10, 0.05), f, x0=(-7., 7.), a=(1., 5.), b=(0.1, 5.))"
   ]
  },
  {
   "cell_type": "code",
   "execution_count": 69,
   "id": "eb8c5a29",
   "metadata": {
    "ExecuteTime": {
     "end_time": "2024-01-30T05:33:54.165835Z",
     "start_time": "2024-01-30T05:33:54.157834Z"
    }
   },
   "outputs": [],
   "source": [
    "def f1(x, x0, a, b):\n",
    "    return np.sin(b*x)"
   ]
  },
  {
   "cell_type": "code",
   "execution_count": 70,
   "id": "43e888d1",
   "metadata": {
    "ExecuteTime": {
     "end_time": "2024-01-30T05:34:00.259108Z",
     "start_time": "2024-01-30T05:34:00.247607Z"
    }
   },
   "outputs": [],
   "source": [
    "w.funcs[0] = f1"
   ]
  },
  {
   "cell_type": "markdown",
   "id": "8adc04da",
   "metadata": {},
   "source": [
    "### discrete function"
   ]
  },
  {
   "cell_type": "code",
   "execution_count": 71,
   "id": "f4c9b884",
   "metadata": {
    "ExecuteTime": {
     "end_time": "2024-01-30T05:34:06.770935Z",
     "start_time": "2024-01-30T05:34:06.758934Z"
    }
   },
   "outputs": [],
   "source": [
    "x = np.arange(0, 10, 0.1)\n",
    "y = 3-(x-4)**2*(1+np.random.randn(len(x))/50)"
   ]
  },
  {
   "cell_type": "code",
   "execution_count": 72,
   "id": "fc69056e",
   "metadata": {
    "ExecuteTime": {
     "end_time": "2024-01-30T05:34:07.336507Z",
     "start_time": "2024-01-30T05:34:07.327006Z"
    }
   },
   "outputs": [],
   "source": [
    "def f1(a):\n",
    "    return y[round(a):]\n",
    "def f2(a):\n",
    "    return y[:round(a)][::-1]"
   ]
  },
  {
   "cell_type": "code",
   "execution_count": 73,
   "id": "2f83f2ef",
   "metadata": {
    "ExecuteTime": {
     "end_time": "2024-01-30T05:34:07.926582Z",
     "start_time": "2024-01-30T05:34:07.862574Z"
    }
   },
   "outputs": [],
   "source": [
    "iplot([f1, f2], a=[0, 80])"
   ]
  },
  {
   "cell_type": "markdown",
   "id": "3bc25db4",
   "metadata": {},
   "source": [
    "### exponent"
   ]
  },
  {
   "cell_type": "code",
   "execution_count": 76,
   "id": "9bb7dc5f",
   "metadata": {
    "ExecuteTime": {
     "end_time": "2024-01-30T05:35:07.303622Z",
     "start_time": "2024-01-30T05:35:07.294121Z"
    }
   },
   "outputs": [],
   "source": [
    "def f(x, a=1., b=1.):\n",
    "    return x**a * np.exp(-b*x)"
   ]
  },
  {
   "cell_type": "code",
   "execution_count": 78,
   "id": "90695e7f",
   "metadata": {
    "ExecuteTime": {
     "end_time": "2024-01-30T05:35:12.413271Z",
     "start_time": "2024-01-30T05:35:12.349763Z"
    },
    "scrolled": false
   },
   "outputs": [],
   "source": [
    "iplot(np.arange(0, 10, 0.1), f, '.', a=(0.1, 5., 0.01), b=(0., 2., 0.01))"
   ]
  },
  {
   "cell_type": "markdown",
   "id": "1ea4d4d1",
   "metadata": {},
   "source": [
    "### fit with exponent"
   ]
  },
  {
   "cell_type": "code",
   "execution_count": 79,
   "id": "6eec18d8",
   "metadata": {
    "ExecuteTime": {
     "end_time": "2024-01-30T05:35:24.980367Z",
     "start_time": "2024-01-30T05:35:24.973866Z"
    }
   },
   "outputs": [],
   "source": [
    "def f(x, a=1., b=1.):\n",
    "    return a * b * x * np.exp(-b*x)"
   ]
  },
  {
   "cell_type": "code",
   "execution_count": 80,
   "id": "b877544d",
   "metadata": {
    "ExecuteTime": {
     "end_time": "2024-01-30T05:35:25.497932Z",
     "start_time": "2024-01-30T05:35:25.490931Z"
    }
   },
   "outputs": [],
   "source": [
    "x1 = np.arange(0, 10.2, 0.25)\n",
    "x2 = np.arange(0, 10.05, 0.1)"
   ]
  },
  {
   "cell_type": "code",
   "execution_count": 81,
   "id": "bb281277",
   "metadata": {
    "ExecuteTime": {
     "end_time": "2024-01-30T05:35:25.886982Z",
     "start_time": "2024-01-30T05:35:25.881981Z"
    }
   },
   "outputs": [],
   "source": [
    "y = f(x1, a=0.5, b=1.2) * (1+np.random.randn(len(x1))/100)"
   ]
  },
  {
   "cell_type": "code",
   "execution_count": 82,
   "id": "87f311cf",
   "metadata": {
    "ExecuteTime": {
     "end_time": "2024-01-30T05:35:26.563568Z",
     "start_time": "2024-01-30T05:35:26.509061Z"
    },
    "scrolled": false
   },
   "outputs": [],
   "source": [
    "iplot([x1, x2], [y, f], ['.', '-'], a=(0.1, 2., 0.01), b=(0., 2., 0.01))"
   ]
  },
  {
   "cell_type": "markdown",
   "id": "1da39130",
   "metadata": {},
   "source": [
    "### fit two peaks"
   ]
  },
  {
   "cell_type": "code",
   "execution_count": 83,
   "id": "7cc452c3",
   "metadata": {
    "ExecuteTime": {
     "end_time": "2024-01-30T05:35:50.338087Z",
     "start_time": "2024-01-30T05:35:50.331086Z"
    }
   },
   "outputs": [],
   "source": [
    "x = np.linspace(0, 10, 101)"
   ]
  },
  {
   "cell_type": "code",
   "execution_count": 84,
   "id": "ae867fcc",
   "metadata": {
    "ExecuteTime": {
     "end_time": "2024-01-30T05:35:50.642125Z",
     "start_time": "2024-01-30T05:35:50.634624Z"
    }
   },
   "outputs": [],
   "source": [
    "def f(x, x0=1, a=1., b=1.):\n",
    "    return a * np.exp(-(x-x0)**2/2/b**2)"
   ]
  },
  {
   "cell_type": "code",
   "execution_count": 85,
   "id": "87b1c787",
   "metadata": {
    "ExecuteTime": {
     "end_time": "2024-01-30T05:35:51.569243Z",
     "start_time": "2024-01-30T05:35:51.557241Z"
    }
   },
   "outputs": [],
   "source": [
    "def g(x, x01=4., a1=1., b1=0.55, x02=7.5, a2=1.5, b2=0.55):\n",
    "    return f(x, x01, a1, b1) + f(x, x02, a2, b2)"
   ]
  },
  {
   "cell_type": "code",
   "execution_count": 86,
   "id": "737c9b4f",
   "metadata": {
    "ExecuteTime": {
     "end_time": "2024-01-30T05:35:52.095310Z",
     "start_time": "2024-01-30T05:35:52.087809Z"
    }
   },
   "outputs": [],
   "source": [
    "y = g(x, 3, 0.9, 0.56, 7, 1.1, 0.3)*(1+np.random.randn(len(x))/10)"
   ]
  },
  {
   "cell_type": "code",
   "execution_count": 87,
   "id": "5aac1c71",
   "metadata": {
    "ExecuteTime": {
     "end_time": "2024-01-30T05:35:52.672383Z",
     "start_time": "2024-01-30T05:35:52.605875Z"
    }
   },
   "outputs": [],
   "source": [
    "iplot([x, x], [y, g], ['.', '-'])"
   ]
  },
  {
   "cell_type": "code",
   "execution_count": null,
   "id": "0a9cadb0",
   "metadata": {},
   "outputs": [],
   "source": []
  }
 ],
 "metadata": {
  "kernelspec": {
   "display_name": "Python 3 (ipykernel)",
   "language": "python",
   "name": "python3"
  },
  "language_info": {
   "codemirror_mode": {
    "name": "ipython",
    "version": 3
   },
   "file_extension": ".py",
   "mimetype": "text/x-python",
   "name": "python",
   "nbconvert_exporter": "python",
   "pygments_lexer": "ipython3",
   "version": "3.8.10"
  },
  "toc": {
   "base_numbering": 1,
   "nav_menu": {},
   "number_sections": true,
   "sideBar": true,
   "skip_h1_title": false,
   "title_cell": "Table of Contents",
   "title_sidebar": "Contents",
   "toc_cell": false,
   "toc_position": {
    "height": "calc(100% - 180px)",
    "left": "10px",
    "top": "150px",
    "width": "256px"
   },
   "toc_section_display": true,
   "toc_window_display": true
  }
 },
 "nbformat": 4,
 "nbformat_minor": 5
}
