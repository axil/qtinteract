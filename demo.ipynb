{
 "cells": [
  {
   "cell_type": "code",
   "execution_count": 28,
   "id": "1f3df134",
   "metadata": {},
   "outputs": [],
   "source": [
    "import numpy as np"
   ]
  },
  {
   "cell_type": "markdown",
   "id": "afa0ae75",
   "metadata": {},
   "source": [
    "### ipywidgets.interact"
   ]
  },
  {
   "cell_type": "code",
   "execution_count": 60,
   "id": "cd55c997",
   "metadata": {},
   "outputs": [],
   "source": [
    "import ipywidgets"
   ]
  },
  {
   "cell_type": "code",
   "execution_count": 26,
   "id": "9fd24a3f",
   "metadata": {},
   "outputs": [],
   "source": [
    "def f(x=1):\n",
    "    return x**2"
   ]
  },
  {
   "cell_type": "code",
   "execution_count": null,
   "id": "0c35508e",
   "metadata": {},
   "outputs": [],
   "source": [
    "ipywidgets.interact(f);"
   ]
  },
  {
   "cell_type": "code",
   "execution_count": null,
   "id": "5385132d",
   "metadata": {},
   "outputs": [],
   "source": [
    "ipywidgets.interact(f, x=(0, 10));"
   ]
  },
  {
   "cell_type": "code",
   "execution_count": null,
   "id": "449fa1c2",
   "metadata": {},
   "outputs": [],
   "source": [
    "ipywidgets.interact(f, x=(0, 10., 0.01));"
   ]
  },
  {
   "cell_type": "markdown",
   "id": "0c5dff5a",
   "metadata": {},
   "source": [
    "### ipywidgets.interactive"
   ]
  },
  {
   "cell_type": "code",
   "execution_count": null,
   "id": "f02ea1dd",
   "metadata": {},
   "outputs": [],
   "source": [
    "%matplotlib inline\n",
    "from ipywidgets import interactive\n",
    "import matplotlib.pyplot as plt\n",
    "import numpy as np\n",
    "\n",
    "def f(m, b):\n",
    "    plt.figure(2)\n",
    "    x = np.linspace(-10, 10, num=1000)\n",
    "    plt.plot(x, m * x + b)\n",
    "    plt.ylim(-5, 5)\n",
    "    plt.show()\n",
    "\n",
    "interactive_plot = interactive(f, m=(-2.0, 2.0), b=(-3, 3, 0.5))\n",
    "output = interactive_plot.children[-1]\n",
    "output.layout.height = '350px'\n",
    "interactive_plot"
   ]
  },
  {
   "cell_type": "markdown",
   "id": "3c904aca",
   "metadata": {},
   "source": [
    "### qtinteract"
   ]
  },
  {
   "cell_type": "code",
   "execution_count": 2,
   "id": "f097a3af",
   "metadata": {},
   "outputs": [],
   "source": [
    "%gui qt5"
   ]
  },
  {
   "cell_type": "code",
   "execution_count": 1,
   "id": "512c143d",
   "metadata": {},
   "outputs": [],
   "source": [
    "from qtinteract import iplot"
   ]
  },
  {
   "cell_type": "markdown",
   "id": "84fa0b69",
   "metadata": {},
   "source": [
    "### analytic function"
   ]
  },
  {
   "cell_type": "code",
   "execution_count": 13,
   "id": "e9f59a80",
   "metadata": {},
   "outputs": [],
   "source": [
    "from math import pi\n",
    "x = np.linspace(0, 2*pi, 101)\n",
    "\n",
    "def f(x, x0, a, b):\n",
    "    return np.exp(-(x-x0)**2/2/a**2)*np.sin(b*x)"
   ]
  },
  {
   "cell_type": "code",
   "execution_count": 14,
   "id": "c092089c",
   "metadata": {},
   "outputs": [],
   "source": [
    "iplot(np.arange(-10, 10, 0.05), f, x0=(-7., 7.), a=(1., 5.), b=(0.1, 5.))"
   ]
  },
  {
   "cell_type": "markdown",
   "id": "b120e1a8",
   "metadata": {},
   "source": [
    "### changing function on the fly"
   ]
  },
  {
   "cell_type": "code",
   "execution_count": 15,
   "id": "333a62fb",
   "metadata": {},
   "outputs": [],
   "source": [
    "from math import pi\n",
    "x = np.linspace(0, 2*pi, 101)\n",
    "\n",
    "def f(x, x0, a, b):\n",
    "    return np.exp(-(x-x0)**2/2/a**2)*np.sin(b*x)"
   ]
  },
  {
   "cell_type": "code",
   "execution_count": 16,
   "id": "bf0987ca",
   "metadata": {},
   "outputs": [],
   "source": [
    "def g(x, x0, a, b):\n",
    "    return f(x, x0, a, b)"
   ]
  },
  {
   "cell_type": "code",
   "execution_count": 17,
   "id": "feb15322",
   "metadata": {},
   "outputs": [],
   "source": [
    "w = interact(np.arange(-10, 10, 0.05), g, x0=(-7., 7.), a=(1., 5.), b=(0.1, 5.))"
   ]
  },
  {
   "cell_type": "code",
   "execution_count": 48,
   "id": "fbb95f13",
   "metadata": {},
   "outputs": [],
   "source": [
    "def f(x, x0, a, b):\n",
    "    return np.sin(b*x)"
   ]
  },
  {
   "cell_type": "code",
   "execution_count": 40,
   "id": "965b14b6",
   "metadata": {},
   "outputs": [],
   "source": [
    "w.funcs[0] = f"
   ]
  },
  {
   "cell_type": "markdown",
   "id": "8adc04da",
   "metadata": {},
   "source": [
    "### discrete function"
   ]
  },
  {
   "cell_type": "code",
   "execution_count": 20,
   "id": "f4c9b884",
   "metadata": {},
   "outputs": [],
   "source": [
    "x = np.arange(0, 10, 0.1)\n",
    "y = 3-(x-4)**2*(1+np.random.randn(len(x))/50)"
   ]
  },
  {
   "cell_type": "code",
   "execution_count": 21,
   "id": "fc69056e",
   "metadata": {},
   "outputs": [],
   "source": [
    "def f1(a):\n",
    "    return y[round(a):]\n",
    "def f2(a):\n",
    "    return y[:round(a)][::-1]"
   ]
  },
  {
   "cell_type": "code",
   "execution_count": 23,
   "id": "2f83f2ef",
   "metadata": {},
   "outputs": [],
   "source": [
    "iplot([f1, f2], a=[0, 80])"
   ]
  },
  {
   "cell_type": "markdown",
   "id": "95a9983b",
   "metadata": {},
   "source": [
    "### polynome"
   ]
  },
  {
   "cell_type": "code",
   "execution_count": 18,
   "id": "0529b44f",
   "metadata": {},
   "outputs": [],
   "source": [
    "def f(x, x0, a, b, c):\n",
    "    return a*(x-x0)**3+b*(x-x0)**2+c*(x-x0)"
   ]
  },
  {
   "cell_type": "code",
   "execution_count": 19,
   "id": "bbd7b964",
   "metadata": {},
   "outputs": [
    {
     "data": {
      "text/plain": [
       "<qtinteract.SimpleWindow at 0x1daf28a80d0>"
      ]
     },
     "execution_count": 19,
     "metadata": {},
     "output_type": "execute_result"
    }
   ],
   "source": [
    "interact(np.arange(-10, 10, 0.1), f, x0=(-5., 5.), a=(-5., 5.), b=(-10., 10.), c=(-10., 10.))"
   ]
  },
  {
   "cell_type": "markdown",
   "id": "3bc25db4",
   "metadata": {},
   "source": [
    "### exponent"
   ]
  },
  {
   "cell_type": "code",
   "execution_count": 24,
   "id": "9bb7dc5f",
   "metadata": {},
   "outputs": [],
   "source": [
    "def f(x, a=1., b=1.):\n",
    "    return x**a * np.exp(-b*x)"
   ]
  },
  {
   "cell_type": "code",
   "execution_count": 26,
   "id": "90695e7f",
   "metadata": {
    "scrolled": false
   },
   "outputs": [],
   "source": [
    "iplot(np.arange(0, 10, 0.1), f, a=(0.1, 5., 0.01), b=(0., 2., 0.01))"
   ]
  },
  {
   "cell_type": "markdown",
   "id": "1ea4d4d1",
   "metadata": {},
   "source": [
    "### fit"
   ]
  },
  {
   "cell_type": "code",
   "execution_count": 44,
   "id": "6eec18d8",
   "metadata": {},
   "outputs": [],
   "source": [
    "def f(x, a=1., b=1.):\n",
    "    return a * b * x * np.exp(-b*x)"
   ]
  },
  {
   "cell_type": "code",
   "execution_count": 45,
   "id": "b877544d",
   "metadata": {},
   "outputs": [],
   "source": [
    "x1 = np.arange(0, 10.2, 0.25)\n",
    "x2 = np.arange(0, 10.05, 0.1)"
   ]
  },
  {
   "cell_type": "code",
   "execution_count": 46,
   "id": "bb281277",
   "metadata": {},
   "outputs": [],
   "source": [
    "y = f(x1, a=0.5, b=1.2) * (1+np.random.randn(len(x1))/100)"
   ]
  },
  {
   "cell_type": "code",
   "execution_count": 47,
   "id": "87f311cf",
   "metadata": {
    "scrolled": false
   },
   "outputs": [],
   "source": [
    "iplot([x1, x2], [y, f], ['.', '-'], a=(0.1, 2., 0.01), b=(0., 2., 0.01))"
   ]
  },
  {
   "cell_type": "markdown",
   "id": "1da39130",
   "metadata": {},
   "source": [
    "### fit two peaks"
   ]
  },
  {
   "cell_type": "code",
   "execution_count": 48,
   "id": "7cc452c3",
   "metadata": {},
   "outputs": [],
   "source": [
    "x = np.linspace(0, 10, 101)"
   ]
  },
  {
   "cell_type": "code",
   "execution_count": 49,
   "id": "ae867fcc",
   "metadata": {},
   "outputs": [],
   "source": [
    "def f(x, x0=1, a=1., b=1.):\n",
    "    return a * np.exp(-(x-x0)**2/2/b**2)"
   ]
  },
  {
   "cell_type": "code",
   "execution_count": 50,
   "id": "87b1c787",
   "metadata": {},
   "outputs": [],
   "source": [
    "def g(x, x01=4., a1=1., b1=0.55, x02=7.5, a2=1.5, b2=0.55):\n",
    "    return f(x, x01, a1, b1) + f(x, x02, a2, b2)"
   ]
  },
  {
   "cell_type": "code",
   "execution_count": 53,
   "id": "737c9b4f",
   "metadata": {},
   "outputs": [],
   "source": [
    "y = g(x, 3, 0.9, 0.56, 7, 1.1, 0.3)*(1+np.random.randn(len(x))/30)"
   ]
  },
  {
   "cell_type": "code",
   "execution_count": 54,
   "id": "5aac1c71",
   "metadata": {},
   "outputs": [],
   "source": [
    "iplot([x, x], [y, g], ['.', '-'])"
   ]
  }
 ],
 "metadata": {
  "kernelspec": {
   "display_name": "Python 3 (ipykernel)",
   "language": "python",
   "name": "python3"
  },
  "language_info": {
   "codemirror_mode": {
    "name": "ipython",
    "version": 3
   },
   "file_extension": ".py",
   "mimetype": "text/x-python",
   "name": "python",
   "nbconvert_exporter": "python",
   "pygments_lexer": "ipython3",
   "version": "3.10.1"
  },
  "toc": {
   "base_numbering": 1,
   "nav_menu": {},
   "number_sections": true,
   "sideBar": true,
   "skip_h1_title": false,
   "title_cell": "Table of Contents",
   "title_sidebar": "Contents",
   "toc_cell": false,
   "toc_position": {
    "height": "calc(100% - 180px)",
    "left": "10px",
    "top": "150px",
    "width": "256px"
   },
   "toc_section_display": true,
   "toc_window_display": true
  }
 },
 "nbformat": 4,
 "nbformat_minor": 5
}
